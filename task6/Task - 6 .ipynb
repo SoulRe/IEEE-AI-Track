{
 "cells": [
  {
   "cell_type": "code",
   "execution_count": null,
   "id": "5f639ae1",
   "metadata": {},
   "outputs": [],
   "source": [
    "import numpy as np"
   ]
  },
  {
   "cell_type": "code",
   "execution_count": null,
   "id": "048173aa",
   "metadata": {},
   "outputs": [],
   "source": [
    "# making a diagonal 9's array\n",
    "x = np.eye(3, 3, dtype = int)\n",
    "x[x == 1] = 9\n",
    "print(x)"
   ]
  },
  {
   "cell_type": "code",
   "execution_count": null,
   "id": "ec0f53fd",
   "metadata": {},
   "outputs": [],
   "source": [
    "# nd array containing even numbers from 2 to 32 inclusive\n",
    "y = np.ndarray(shape = (4, 4), dtype = int, buffer = np.arange(2, 33, 2))\n",
    "print(y)\n",
    "\n",
    "mean, std_dev_limit = np.mean(y), np.std(y)/2\n",
    "# getting the maximum & minimum values\n",
    "max_dev, min_dev = mean + std_dev_limit, mean - std_dev_limit\n",
    "\n",
    "#print(mean, std_dev/2, max_dev, min_dev) debugging print\n",
    "\n",
    "z = y[(min_dev <= y) & (y <= max_dev)]\n",
    "print(z)"
   ]
  },
  {
   "cell_type": "code",
   "execution_count": null,
   "id": "e85dde36",
   "metadata": {},
   "outputs": [],
   "source": [
    "# making a 9x9 of type int\n",
    "x = np.ndarray(shape = (9, 9), dtype = int)\n",
    "print(x)\n",
    "print(x.dtype)"
   ]
  },
  {
   "cell_type": "code",
   "execution_count": null,
   "id": "aaff4172",
   "metadata": {},
   "outputs": [],
   "source": [
    "#taking input from user and printing numbers in whole columns\n",
    "number = int(input(\"Enter a number: \"))\n",
    "numbers_array = np.arange(1, number + 1, dtype = int)\n",
    "\n",
    "k = np.ones([number, number], dtype = int)\n",
    "j = numbers_array * k\n",
    "print(j)"
   ]
  }
 ],
 "metadata": {
  "kernelspec": {
   "display_name": "Python 3 (ipykernel)",
   "language": "python",
   "name": "python3"
  },
  "language_info": {
   "codemirror_mode": {
    "name": "ipython",
    "version": 3
   },
   "file_extension": ".py",
   "mimetype": "text/x-python",
   "name": "python",
   "nbconvert_exporter": "python",
   "pygments_lexer": "ipython3",
   "version": "3.9.13"
  }
 },
 "nbformat": 4,
 "nbformat_minor": 5
}
